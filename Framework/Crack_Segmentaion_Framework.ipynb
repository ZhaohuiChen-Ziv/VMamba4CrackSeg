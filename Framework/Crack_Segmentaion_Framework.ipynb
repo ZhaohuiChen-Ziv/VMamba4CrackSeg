{
 "cells": [
  {
   "cell_type": "code",
   "execution_count": 1,
   "id": "54d3704f",
   "metadata": {},
   "outputs": [
    {
     "name": "stdout",
     "output_type": "stream",
     "text": [
      "The history saving thread hit an unexpected error (OperationalError('attempt to write a readonly database')).History will not be written to the database.\n"
     ]
    },
    {
     "name": "stderr",
     "output_type": "stream",
     "text": [
      "INFO:albumentations.check_version:A new version of Albumentations is available: 1.4.21 (you have 1.4.11). Upgrade using: pip install --upgrade albumentations\n"
     ]
    }
   ],
   "source": [
    "import os\n",
    "import numpy as np\n",
    "from PIL import Image\n",
    "import torch\n",
    "from torch import nn, optim\n",
    "from torch.utils.data import Dataset, DataLoader\n",
    "import torchvision\n",
    "import segmentation_models_pytorch as smp\n",
    "import albumentations as A  \n",
    "from albumentations.pytorch import ToTensorV2\n",
    "from tqdm import tqdm\n",
    "import matplotlib.pyplot as plt\n",
    "import random"
   ]
  },
  {
   "cell_type": "markdown",
   "id": "6f389369",
   "metadata": {},
   "source": [
    "**<mark><font color = black size=5>Dataset</font><mark>**"
   ]
  },
  {
   "cell_type": "code",
   "execution_count": 3,
   "id": "8f807e8f",
   "metadata": {},
   "outputs": [],
   "source": [
    "class SegmentationDataset(Dataset):\n",
    "    def __init__(self, input_dir, output_dir, is_train, full_list=None,transform=None, pixel_dir=None):\n",
    "        self.input_dir  = input_dir\n",
    "        self.output_dir = output_dir\n",
    "        self.pixel_dir = pixel_dir\n",
    "        self.transform  = transform\n",
    "        self.is_train   = is_train\n",
    "        \n",
    "        if self.is_train == 1:\n",
    "            self.images = full_list              \n",
    "        elif self.is_train == 2:\n",
    "            self.images = os.listdir(self.input_dir)\n",
    "        else:\n",
    "            self.images = os.listdir(self.input_dir)            \n",
    "\n",
    "            \n",
    "    def __len__(self):\n",
    "        return len(self.images)\n",
    "\n",
    "    def __getitem__(self, index):\n",
    "        img_path    = os.path.join(self.input_dir, self.images[index])\n",
    "        mask_path   = os.path.join(self.output_dir, self.images[index])\n",
    "        img         = np.array(Image.open(img_path).convert(\"RGB\"), dtype=np.float32) / 255\n",
    "        mask        = np.array(Image.open(mask_path).convert(\"L\"), dtype=np.float32)   / 255\n",
    "        mask        = np.ones(mask.shape)-mask\n",
    "\n",
    "        if self.pixel_dir:\n",
    "            mask_pixel_path=os.path.join(self.pixel_dir, self.images[index])\n",
    "            mask_pixel= np.array(Image.open(mask_pixel_path).convert(\"L\"), dtype=np.float32)   / 255\n",
    "            \n",
    "            if self.transform is not None:\n",
    "                augmentations = self.transform(image=img, mask=mask_pixel) \n",
    "                aug2 = self.transform(image=img, mask=mask)\n",
    "                img   = augmentations[\"image\"]\n",
    "                mask_pixel = augmentations[\"mask\"]  \n",
    "                mask  = aug2[\"mask\"]\n",
    "                \n",
    "            mask=np.round(mask)\n",
    "            mask_pixel=np.round(mask_pixel)\n",
    "            return img, mask, mask_pixel\n",
    "        \n",
    "        elif self.transform is not None:\n",
    "            augmentations = self.transform(image=img, mask=mask)\n",
    "            img   = augmentations[\"image\"]\n",
    "            mask  = augmentations[\"mask\"]\n",
    "\n",
    "        mask=np.round(mask)\n",
    "        return img, mask, mask_path"
   ]
  },
  {
   "cell_type": "code",
   "execution_count": 3,
   "id": "e74b82ad-c5a4-4d9b-818d-50d04c69b067",
   "metadata": {},
   "outputs": [],
   "source": [
    "class SegmentationDataset(Dataset):\n",
    "    def __init__(self, input_dir, output_dir, is_train, full_list=None,transform=None, pixel_dir=None):\n",
    "        self.input_dir  = input_dir\n",
    "        self.output_dir = output_dir\n",
    "        self.pixel_dir = pixel_dir\n",
    "        self.transform  = transform\n",
    "        self.is_train   = is_train\n",
    "        \n",
    "        if self.is_train == 1:\n",
    "            self.images = full_list              \n",
    "        elif self.is_train == 2:\n",
    "            self.images = os.listdir(self.input_dir)\n",
    "        else:\n",
    "            self.images = os.listdir(self.input_dir)             \n",
    "            \n",
    "    def __len__(self):\n",
    "        return len(self.images)\n",
    "\n",
    "    def __getitem__(self, index):\n",
    "        img_path    = os.path.join(self.input_dir, self.images[index])\n",
    "        mask_path   = os.path.join(self.output_dir, self.images[index])\n",
    "        img         = np.array(Image.open(img_path).convert(\"RGB\"), dtype=np.float32) / 255\n",
    "        mask        = np.array(Image.open(mask_path).convert(\"L\"), dtype=np.float32)   / 255\n",
    "        mask        = np.ones(mask.shape)-mask\n",
    "\n",
    "        if self.pixel_dir:\n",
    "            mask_pixel_path=os.path.join(self.pixel_dir, self.images[index])\n",
    "            mask_pixel= np.array(Image.open(mask_pixel_path).convert(\"L\"), dtype=np.float32)   / 255\n",
    "            \n",
    "            if self.transform is not None:\n",
    "                augmentations = self.transform(image=img, mask=mask_pixel) \n",
    "                aug2 = self.transform(image=img, mask=mask)\n",
    "                img   = augmentations[\"image\"]\n",
    "                mask_pixel = augmentations[\"mask\"]  \n",
    "                mask  = aug2[\"mask\"]\n",
    "                \n",
    "            mask=np.round(mask)\n",
    "            mask_pixel=np.round(mask_pixel)\n",
    "            return img, mask, mask_pixel\n",
    "        \n",
    "        elif self.transform is not None:\n",
    "            augmentations = self.transform(image=img, mask=mask)\n",
    "            img   = augmentations[\"image\"]\n",
    "            mask  = augmentations[\"mask\"]\n",
    "\n",
    "        mask=np.round(mask)\n",
    "\n",
    "        return img, mask, mask_path"
   ]
  },
  {
   "cell_type": "code",
   "execution_count": 3,
   "id": "904ea61e-2e2e-42e0-9572-e014525a6de0",
   "metadata": {},
   "outputs": [],
   "source": [
    "class SegmentationDataset(Dataset):\n",
    "    def __init__(self, input_dir, output_dir, is_train, full_list=None,transform=None, pixel_dir=None):\n",
    "        self.input_dir  = input_dir\n",
    "        self.output_dir = output_dir\n",
    "        self.pixel_dir = pixel_dir\n",
    "        self.transform  = transform\n",
    "        self.is_train   = is_train\n",
    "        \n",
    "        if self.is_train == 1:\n",
    "            self.images = full_list              \n",
    "        elif self.is_train == 2:\n",
    "            self.images = os.listdir(self.input_dir)\n",
    "        else:\n",
    "            self.images = os.listdir(self.input_dir)             \n",
    "            \n",
    "    def __len__(self):\n",
    "        return len(self.images)\n",
    "\n",
    "    def __getitem__(self, index):\n",
    "        img_path    = os.path.join(self.input_dir, self.images[index])\n",
    "        mask_path   = os.path.join(self.output_dir, self.images[index])\n",
    "        img         = np.array(Image.open(img_path).convert(\"RGB\"), dtype=np.float32) / 255\n",
    "        mask        = np.array(Image.open(mask_path).convert(\"L\"), dtype=np.float32)   / 255\n",
    "        mask        = np.ones(mask.shape)-mask\n",
    "\n",
    "        if self.pixel_dir:\n",
    "            mask_pixel_path=os.path.join(self.pixel_dir, self.images[index])\n",
    "            mask_pixel= np.array(Image.open(mask_pixel_path).convert(\"L\"), dtype=np.float32)   / 255\n",
    "            \n",
    "            if self.transform is not None:\n",
    "                augmentations = self.transform(image=img, mask=mask_pixel) \n",
    "                aug2 = self.transform(image=img, mask=mask)\n",
    "                img   = augmentations[\"image\"]\n",
    "                mask_pixel = augmentations[\"mask\"]  \n",
    "                mask  = aug2[\"mask\"]\n",
    "                \n",
    "            mask=np.round(mask)\n",
    "            mask_pixel=np.round(mask_pixel)\n",
    "            return img, mask, mask_pixel\n",
    "        \n",
    "        elif self.transform is not None:\n",
    "            augmentations = self.transform(image=img, mask=mask)\n",
    "            img   = augmentations[\"image\"]\n",
    "            mask  = augmentations[\"mask\"]\n",
    "\n",
    "        mask=np.round(mask)\n",
    "        return img, mask, mask_path"
   ]
  },
  {
   "cell_type": "markdown",
   "id": "6736fb82",
   "metadata": {},
   "source": [
    "**<mark><font color = black size=5>Hyperparameters and Initializations</font><mark>**"
   ]
  },
  {
   "cell_type": "code",
   "execution_count": 5,
   "id": "42d33927",
   "metadata": {},
   "outputs": [],
   "source": [
    "TRAIN_INP_DIR = '/root/Desktop/Brickwall_448/train/images'\n",
    "TRAIN_OUT_DIR = '/root/Desktop/Brickwall_448/train/masks'\n",
    "VAL_INP_DIR = '/root/Desktop/Brickwall_448/test/images'\n",
    "VAL_OUT_DIR = '/root/Desktop/Brickwall_448/test/masks'\n",
    "\n",
    "DEVICE        = \"cuda\" if torch.cuda.is_available() else \"cpu\"\n",
    "\n",
    "LEARNING_RATE = 0.00005 \n",
    "BATCH_SIZE    = 2\n",
    "NUM_EPOCHS    = 80\n",
    "IMAGE_HEIGHT  = 448  \n",
    "IMAGE_WIDTH   = 448 \n",
    "\n",
    "train_transform = A.Compose(\n",
    "    [\n",
    "        A.PadIfNeeded(min_height=IMAGE_HEIGHT, min_width=IMAGE_WIDTH, always_apply=True, border_mode=0),\n",
    "        A.RandomCrop(height=IMAGE_HEIGHT, width=IMAGE_WIDTH, always_apply=True),\n",
    "        A.ColorJitter(p=0.2),\n",
    "        A.HorizontalFlip(p=0.5),\n",
    "        ToTensorV2(),\n",
    "    ],\n",
    ")\n",
    "\n",
    "val_transform = A.Compose(\n",
    "    [\n",
    "        A.PadIfNeeded(min_height=IMAGE_HEIGHT, min_width=IMAGE_WIDTH, always_apply=True, border_mode=0),\n",
    "        A.RandomCrop(height=IMAGE_HEIGHT, width=IMAGE_WIDTH, always_apply=True),\n",
    "        ToTensorV2(),\n",
    "    ],\n",
    ")\n",
    "\n"
   ]
  },
  {
   "cell_type": "markdown",
   "id": "1ec05400",
   "metadata": {},
   "source": [
    "**<mark><font color = black size=5> Get_loaders to return train_loader and val_loader </font><mark>**"
   ]
  },
  {
   "cell_type": "code",
   "execution_count": 7,
   "id": "1a1cde07",
   "metadata": {},
   "outputs": [],
   "source": [
    "def get_loaders( inp_dir, mask_dir, test_inp, test_out, batch_size,  train_transform, val_tranform ):\n",
    "    full_list= os.listdir(inp_dir)  \n",
    "    random.shuffle(full_list)\n",
    "    \n",
    "    train_ds     = SegmentationDataset( input_dir=inp_dir, output_dir=mask_dir, \n",
    "                    is_train= 1, full_list=full_list,transform=train_transform)\n",
    "\n",
    "    train_loader = DataLoader( train_ds, batch_size=batch_size, shuffle=True )\n",
    "\n",
    "    val_ds       = SegmentationDataset( input_dir=test_inp, output_dir=test_out,\n",
    "                     is_train= 2, full_list=full_list,transform=val_transform)\n",
    "\n",
    "    val_loader   = DataLoader( val_ds, batch_size=batch_size, shuffle=True  )\n",
    "\n",
    "    return train_loader, val_loader"
   ]
  },
  {
   "cell_type": "markdown",
   "id": "3e0682e3",
   "metadata": {},
   "source": [
    "**<mark><font color = black size=5> Check Data loader </font><mark>**"
   ]
  },
  {
   "cell_type": "code",
   "execution_count": 8,
   "id": "887f2714",
   "metadata": {},
   "outputs": [
    {
     "name": "stdout",
     "output_type": "stream",
     "text": [
      "torch.Size([1, 3, 448, 448])\n",
      "torch.Size([1, 448, 448])\n",
      "min=:0.0\n",
      "max=:1.0\n",
      "\n"
     ]
    },
    {
     "data": {
      "image/png": "[encoded data removed]",
      "text/plain": [
       "<Figure size 640x480 with 2 Axes>"
      ]
     },
     "metadata": {},
     "output_type": "display_data"
    }
   ],
   "source": [
    "train_loader, val_loader = get_loaders( TRAIN_INP_DIR, TRAIN_OUT_DIR, VAL_INP_DIR, VAL_OUT_DIR,\n",
    "                            BATCH_SIZE,  train_transform, val_transform)\n",
    "inputs, masks,img_path = next(iter(val_loader))\n",
    "\n",
    "_, ax = plt.subplots(1,2)\n",
    "ax[0].imshow(inputs[0].permute(1,2,0),cmap=plt.cm.binary)\n",
    "ax[1].imshow(masks[0].squeeze(0),cmap=plt.cm.binary)\n",
    "\n",
    "for i in range(2):\n",
    "    ax[i].axes.get_xaxis().set_visible(False)\n",
    "    ax[i].axes.get_yaxis().set_visible(False)\n",
    "# _,ax  = plt.subplots(1,1)\n",
    "# ax.imshow(inputs[0].permute(1,2,0))\n",
    "# ax[1].imshow(masks[0])\n",
    "# _,ax  = plt.subplots(1,1)\n",
    "# ax.imshow(masks[0])\n",
    "\n",
    "print(inputs[0].unsqueeze(0).size())\n",
    "print(masks[0].unsqueeze(0).size())\n",
    "min=torch.min(masks[0])\n",
    "max=torch.max(masks[0])\n",
    "print(\"min=:{}\\nmax=:{}\\n\".format(min,max))"
   ]
  },
  {
   "cell_type": "markdown",
   "id": "28a0fb46",
   "metadata": {},
   "source": [
    "**<mark><font color = black size=5> Models_Selection </font><mark>**"
   ]
  },
  {
   "cell_type": "markdown",
   "id": "eaee9f60-604c-47c7-85b3-dc41c99c3fb3",
   "metadata": {},
   "source": [
    "#### VM_UNet"
   ]
  },
  {
   "cell_type": "code",
   "execution_count": null,
   "id": "fbdcaba6",
   "metadata": {},
   "outputs": [],
   "source": [
    "from VMUNet.models.vmunet import VMUNet\n",
    "model_config = {\n",
    "        'num_classes': 1, \n",
    "        'input_channels': 3, \n",
    "        # ----- VM-UNet ----- #\n",
    "        'depths': [2,2,2,2],\n",
    "        'depths_decoder': [2,2,2,1],\n",
    "        'drop_path_rate': 0.2,\n",
    "        'load_ckpt_path': './pre_trained_weights/vmamba_small_e238_ema.pth',\n",
    "    }\n",
    "\n",
    "model= VMUNet(num_classes=1, input_channels=3, depths=[2,2,2,2], depths_decoder=[2,2,2,1], drop_path_rate=0.2,\n",
    "             ).cuda()\n",
    "# model= VMUNet(num_classes=1, input_channels=3, depths=[2,2,2,2], depths_decoder=[2,2,2,1], drop_path_rate=0.2,\n",
    "#              load_ckpt_path='./pre_trained_weights/vmamba_small_e238_ema.pth').cuda()\n",
    "model.load_from()\n",
    "total_params = sum(param.numel() for param in model.parameters())\n",
    "print(total_params)"
   ]
  },
  {
   "cell_type": "markdown",
   "id": "bcf4f78d-fdc7-401d-8052-1a2d8ff945ec",
   "metadata": {},
   "source": [
    "#### Segformer-B5"
   ]
  },
  {
   "cell_type": "code",
   "execution_count": null,
   "id": "87f5de90-e562-46af-9758-52e7654015d4",
   "metadata": {},
   "outputs": [],
   "source": [
    "from Segformer import *\n",
    "import torch\n",
    "from torchvision import io\n",
    "from torchvision import transforms as T\n",
    "model=eval('SegFormer')(backbone='MiT-B5',num_classes=1)   # eval change \"strings\" to \"dict\"\n",
    "# model.backbone.load_state_dict(torch.load('./mit_pretrained/mit_b0.pth'),strict=False)   # ignore dis-matching keys\n",
    "total_params = sum(param.numel() for param in model.parameters())\n",
    "print(total_params)"
   ]
  },
  {
   "cell_type": "markdown",
   "id": "7bf33173-b66e-4d05-9df4-bf0bbdaeb65f",
   "metadata": {},
   "source": [
    "#### DTrC_Net"
   ]
  },
  {
   "cell_type": "code",
   "execution_count": null,
   "id": "ca9ccaf1-8e1a-46b2-9440-84e756d06038",
   "metadata": {},
   "outputs": [],
   "source": [
    "from DTrC_Net.CTCNet import CTCNet\n",
    "model=CTCNet().cuda()\n",
    "total_params = sum(param.numel() for param in model.parameters())\n",
    "print(total_params)"
   ]
  },
  {
   "cell_type": "markdown",
   "id": "9c679ca0-1673-4c3a-9549-e3bc279c2230",
   "metadata": {},
   "source": [
    "#### Swin_UNet"
   ]
  },
  {
   "cell_type": "code",
   "execution_count": null,
   "id": "84606828-17a6-43d4-b127-324408d0074f",
   "metadata": {},
   "outputs": [],
   "source": [
    "from SwinUNet.vision_transformer import SwinUnet\n",
    "model = SwinUnet(img_size=448, num_classes=1, \n",
    "                 load_ckpt_path='./SwinUNet/swin_tiny_patch4_window7_224.pth').cuda()\n",
    "total_params = sum(param.numel() for param in model.parameters())\n",
    "print(total_params)"
   ]
  },
  {
   "cell_type": "markdown",
   "id": "9a9684fe-dbe2-4372-b344-2d60aa7dd38d",
   "metadata": {},
   "source": [
    "#### Trans_UNet"
   ]
  },
  {
   "cell_type": "code",
   "execution_count": null,
   "id": "edf90736-365b-4ae4-9adc-600f0eaa1e3d",
   "metadata": {},
   "outputs": [],
   "source": [
    "import numpy as np\n",
    "from TransUnet.vit_seg_modeling import VisionTransformer as TransUNet\n",
    "from TransUnet.vit_seg_modeling import CONFIGS as CONFIGS_ViT_seg\n",
    "\n",
    "config_transunet = CONFIGS_ViT_seg['R50-ViT-B_16']\n",
    "input_size=1024\n",
    "config_transunet.n_classes = 1\n",
    "config_transunet.n_skip = 3\n",
    "config_transunet.patches.grid = (int(input_size / 16), int(input_size / 16))\n",
    "model = TransUNet(config_transunet, input_size, num_classes=1).cuda()\n",
    "# model.load_from(weights=np.load(config_transunet.pretrained_path))\n",
    "total_params = sum(param.numel() for param in model.parameters())\n",
    "print(total_params)"
   ]
  },
  {
   "cell_type": "markdown",
   "id": "da82c661-cb96-4f3c-9084-10244e5d1b8b",
   "metadata": {},
   "source": [
    "#### LinkNet-EB7"
   ]
  },
  {
   "cell_type": "code",
   "execution_count": null,
   "id": "18904abd-1273-49f3-b157-0c8ac383274a",
   "metadata": {},
   "outputs": [],
   "source": [
    "import segmentation_models_pytorch as smp\n",
    "model = smp.Linknet(encoder_name='efficientnet-b7',encoder_weights='imagenet', in_channels=3, classes=1, activation= None).cuda()\n",
    "total_params = sum(param.numel() for param in model.parameters())\n",
    "print(total_params)"
   ]
  },
  {
   "cell_type": "markdown",
   "id": "45297121-f01a-4347-b2a8-62088a2decb3",
   "metadata": {},
   "source": [
    "#### UNet_EB7"
   ]
  },
  {
   "cell_type": "code",
   "execution_count": null,
   "id": "08e5fab1-a598-4b3a-bb43-cba1352e9e5d",
   "metadata": {},
   "outputs": [],
   "source": [
    "import segmentation_models_pytorch as smp\n",
    "model = smp.Unet(encoder_name='efficientnet-b7',encoder_weights='imagenet', in_channels=3, classes=1, activation= None).cuda()\n",
    "total_params = sum(param.numel() for param in model.parameters())\n",
    "print(total_params)"
   ]
  },
  {
   "cell_type": "markdown",
   "id": "db009e70",
   "metadata": {},
   "source": [
    "**<mark><font color = black size=3> unload weights Dice 0.138 & load weights Dice 0.355 </font><mark>**"
   ]
  },
  {
   "cell_type": "code",
   "execution_count": 10,
   "id": "51affb1c",
   "metadata": {},
   "outputs": [],
   "source": [
    "#########  decoder_head_forward ########\n",
    "def forward(image):    \n",
    "    out= model(image)\n",
    "    return out"
   ]
  },
  {
   "cell_type": "code",
   "execution_count": 15,
   "id": "505b3525",
   "metadata": {},
   "outputs": [],
   "source": [
    "def check_accuracy(loader, model, device=\"cuda\"):\n",
    "    num_correct = 0\n",
    "    num_pixels  = 0\n",
    "    dice_score  = 0\n",
    "    iou_score   = 0\n",
    "    Precision   = 0\n",
    "    Recall      = 0\n",
    "    model.eval()          \n",
    "\n",
    "    with torch.no_grad():\n",
    "        for img, mask,img_path in tqdm(loader):\n",
    "            img   = img.to(device)\n",
    "            mask  = mask.to(device).unsqueeze(1)\n",
    "            preds = torch.sigmoid(forward(img))\n",
    "            preds = (preds > 0.5).float()\n",
    "            N=preds.size()[0]\n",
    "            preds= preds.view(N,-1)\n",
    "            mask= mask.view(N,-1)\n",
    "            num_correct += (preds == mask).sum()\n",
    "            num_pixels += torch.numel(preds)\n",
    "            TP = preds * mask        \n",
    "            Precision += (TP.sum(1)/(preds.sum(1)+ 1e-7)).sum()/N\n",
    "            Recall    += (TP.sum(1)/(mask.sum(1)+ 1e-7)).sum()/N\n",
    "############################ Output Metrics ##############################\n",
    "\n",
    "            intersection= TP\n",
    "            dice_score += ((2 * intersection.sum(1)) / ((preds + mask).sum(1) + 1e-7 )).sum()/N\n",
    "            iou_score += ((intersection.sum(1))/((preds + mask).sum(1)- intersection.sum(1) + 1e-7)).sum()/N\n",
    "    \n",
    "    print((preds).sum(), Precision)\n",
    "    print(\n",
    "        f\"Got {num_correct}/{num_pixels} with pixel accuracy {num_correct/num_pixels:.3f}\"\n",
    "    )\n",
    "    ave_prec=Precision/len(loader)\n",
    "    ave_recall= Recall/len(loader)\n",
    "    print(f\"Precision: {ave_prec:.3f}\", f\"Recall: {ave_recall:.3f}\")\n",
    "    ave_dice_score= dice_score/len(loader)\n",
    "    ave_iou_score= iou_score/len(loader)\n",
    "    print(f\"Dice score: {ave_dice_score:.3f}\")  \n",
    "    print(f\"Iou score: {ave_iou_score:.3f}\")\n",
    "    model.train()\n",
    "    return ave_dice_score"
   ]
  },
  {
   "cell_type": "markdown",
   "id": "eeff979d",
   "metadata": {},
   "source": [
    "**<mark><font color = black size=5> Defined loss function </font><mark>**"
   ]
  },
  {
   "cell_type": "code",
   "execution_count": 16,
   "id": "afa5797d",
   "metadata": {},
   "outputs": [],
   "source": [
    "class Selfdefined_Loss():\n",
    "    def __init__(self):     \n",
    "        pass\n",
    "\n",
    "    def JaccardLoss(self, pr, gt):\n",
    "        pr = torch.sigmoid(pr)  \n",
    "        eps=1e-7\n",
    "        N=gt.size()[0]\n",
    "        pr_flat= pr.view(N,-1)\n",
    "        gt_flat= gt.view(N,-1)\n",
    "        intersection=pr_flat*gt_flat\n",
    "        iou_score =(intersection.sum(1) + eps)\\\n",
    "              / (gt_flat.sum(1) + pr_flat.sum(1) - intersection.sum(1) + eps)\n",
    "        loss=1-iou_score.sum() / N\n",
    "        return loss \n",
    "\n",
    "    def DiceLoss(self, pr, gt):\n",
    "        pr = torch.sigmoid(pr)  \n",
    "        eps=1e-7\n",
    "        beta=1\n",
    "        N=gt.size()[0]\n",
    "        pr_flat= pr.view(N,-1)\n",
    "        gt_flat= gt.view(N,-1)\n",
    "        tp = pr_flat * gt_flat        \n",
    "        fp = pr_flat - tp\n",
    "        fn = gt_flat - tp\n",
    "        f_score = ((1 + beta ** 2) * tp.sum(1) + eps) \\\n",
    "            / ((1 + beta ** 2) * tp.sum(1) + beta ** 2 * fn.sum(1) + fp.sum(1) + eps)\n",
    "        loss=1-f_score.sum()/N  \n",
    "        return loss  \n",
    "    "
   ]
  },
  {
   "cell_type": "markdown",
   "id": "dde63bbd",
   "metadata": {},
   "source": [
    "**<mark><font color = black size=5> Model, loss function, and optimizer </font><mark>**"
   ]
  },
  {
   "cell_type": "code",
   "execution_count": 17,
   "id": "301aebb0",
   "metadata": {},
   "outputs": [],
   "source": [
    "loss_fn   = Selfdefined_Loss().DiceLoss \n",
    "\n",
    "optimizer = optim.AdamW(model.parameters(), lr=LEARNING_RATE)\n"
   ]
  },
  {
   "cell_type": "markdown",
   "id": "bb99d295",
   "metadata": {},
   "source": [
    "**<mark><font color = black size=5> Training Function and val loss </font><mark>**"
   ]
  },
  {
   "cell_type": "code",
   "execution_count": 18,
   "id": "1affcea4",
   "metadata": {},
   "outputs": [],
   "source": [
    "def train_fn(loader, model, optimizer, loss_fn):\n",
    "\n",
    "    loop = tqdm(loader)\n",
    "    epoch_loss= []\n",
    "    for batch_idx, (image, mask, img_path) in enumerate(loop):\n",
    "        image   = image.to(device=DEVICE)\n",
    "        mask    = mask.float().unsqueeze(1).to(device=DEVICE)\n",
    "\n",
    "        # forward\n",
    "        predictions = forward(image)\n",
    "        loss = loss_fn(predictions, mask)\n",
    "    \n",
    "        # backward\n",
    "        model.zero_grad()\n",
    "        loss.backward()\n",
    "        epoch_loss.append(loss.item())\n",
    "        optimizer.step()                 \n",
    "        \n",
    "        loop.set_postfix(loss=loss.item())\n",
    "    loss_train.append(sum(epoch_loss)/len(epoch_loss))\n",
    "\n",
    "def val_loss(loader, model,loss_fn):\n",
    "    model.eval()\n",
    "    loop = tqdm(loader)\n",
    "    epoch_loss= []\n",
    "    for batch_idx, (image, mask, img_path) in enumerate(loop):\n",
    "        image   = image.to(device=DEVICE)\n",
    "        mask    = mask.float().unsqueeze(1).to(device=DEVICE)\n",
    "        predictions = forward(image)\n",
    "        loss = loss_fn(predictions, mask)\n",
    "        epoch_loss.append(loss.item())\n",
    "    loss_val.append(sum(epoch_loss)/len(epoch_loss))"
   ]
  },
  {
   "cell_type": "markdown",
   "id": "6cc3f5fa",
   "metadata": {},
   "source": [
    "**<mark><font color = black size=5> Check accuracy before any training </font><mark>**"
   ]
  },
  {
   "cell_type": "code",
   "execution_count": 19,
   "id": "cd03b3bb",
   "metadata": {},
   "outputs": [
    {
     "name": "stderr",
     "output_type": "stream",
     "text": [
      "100%|█████████████████████████████████████████| 176/176 [00:09<00:00, 18.96it/s]"
     ]
    },
    {
     "name": "stdout",
     "output_type": "stream",
     "text": [
      "tensor(61939., device='cuda:0') tensor(6.3423, device='cuda:0', dtype=torch.float64)\n",
      "Got 48379479/70447104 with pixel accuracy 0.687\n",
      "Precision: 0.036 Recall: 0.281\n",
      "Dice score: 0.059\n",
      "Iou score: 0.031\n"
     ]
    },
    {
     "name": "stderr",
     "output_type": "stream",
     "text": [
      "\n"
     ]
    },
    {
     "data": {
      "text/plain": [
       "tensor(0.0594, device='cuda:0', dtype=torch.float64)"
      ]
     },
     "execution_count": 19,
     "metadata": {},
     "output_type": "execute_result"
    }
   ],
   "source": [
    "check_accuracy(val_loader, model, device=DEVICE)\n"
   ]
  },
  {
   "cell_type": "markdown",
   "id": "3f02e9dd",
   "metadata": {},
   "source": [
    "**<mark><font color = black size=5> Train the model and check the accuracy after each epoch </font><mark>**"
   ]
  },
  {
   "cell_type": "code",
   "execution_count": null,
   "id": "6ea4eee3",
   "metadata": {
    "scrolled": true
   },
   "outputs": [],
   "source": [
    "max_score = 0\n",
    "loss_train=  []\n",
    "loss_val = []\n",
    "for epoch in range(NUM_EPOCHS):\n",
    "    \n",
    "    print('########################## epoch: '+str(epoch))\n",
    "    train_fn(train_loader, model, optimizer, loss_fn)\n",
    "    val_loss(val_loader, model,loss_fn)\n",
    "\n",
    "    # check validation accuracy------- or prediction\n",
    "    ave_dice_score = check_accuracy(val_loader, model, device=DEVICE)\n",
    "    if max_score < ave_dice_score:\n",
    "        max_score = ave_dice_score\n",
    "        torch.save(model, './VMamba_UNet_448x448_pretrained_weights.pth')\n",
    "        print('Model saved!')\n",
    "         \n",
    "\n",
    "plt.plot(loss_train, 'r', label='Training loss')\n",
    "plt.plot(loss_val, 'b', label='validation loss')\n",
    "plt.title('Training and validation loss')\n",
    "plt.legend()\n",
    "plt.show()\n",
    "# plt.savefig('000.png')"
   ]
  },
  {
   "cell_type": "code",
   "execution_count": null,
   "id": "bc0919fd",
   "metadata": {},
   "outputs": [],
   "source": [
    "Got 69356299/70447104 with pixel accuracy 0.985\n",
    "Precision: 0.758 Recall: 0.783\n",
    "Dice score: 0.757\n",
    "Iou score: 0.651\n",
    "Model saved!\n",
    "########################## epoch: 39"
   ]
  }
 ],
 "metadata": {
  "kernelspec": {
   "display_name": "Python 3 (ipykernel)",
   "language": "python",
   "name": "python3"
  },
  "language_info": {
   "codemirror_mode": {
    "name": "ipython",
    "version": 3
   },
   "file_extension": ".py",
   "mimetype": "text/x-python",
   "name": "python",
   "nbconvert_exporter": "python",
   "pygments_lexer": "ipython3",
   "version": "3.9.16"
  }
 },
 "nbformat": 4,
 "nbformat_minor": 5
}
